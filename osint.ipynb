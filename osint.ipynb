{
  "nbformat": 4,
  "nbformat_minor": 0,
  "metadata": {
    "colab": {
      "provenance": []
    },
    "kernelspec": {
      "name": "python3",
      "display_name": "Python 3"
    },
    "language_info": {
      "name": "python"
    }
  },
  "cells": [
    {
      "cell_type": "code",
      "source": [
        "#@markdown ---\n",
        "#@markdown mode 0 str ñ nonstr // 1 str only\n",
        "mode = \"0\" #@param [\"0\",\"1\"]\n",
        "auth = \"0\" #@param [\"0\",\"1\",\"2\",\"3\",\"4\",\"5\",\"6\",\"7\",\"8\",\"9\"]\n",
        "nama = \"\" #@param {type:\"string\"}\n",
        "data = nama.replace(\" \", \"+\")\n",
        "datakecil = data.lower()\n",
        "if mode==\"0\":\n",
        "#  print(\"mode nol\")\n",
        "  print(f'https://google.com/search?q=intext:%22{datakecil}%22+OR+intext:{datakecil}+OR+intext:%22{data}%22+OR+intext:{data}+OR+intitle:%22{datakecil}%22+OR+intitle:{datakecil}+OR+intitle:%22{data}%22+OR+intitle:{data}%22&authuser={auth}')\n",
        "elif mode==\"1\":\n",
        "#  print(\"mode satu\")\n",
        "  print(f'https://google.com/search?q=intext:%22{datakecil}%22+OR+intext:%22{data}%22+OR+intitle:%22{datakecil}%22+OR+intitle:%22{data}%22&authuser={auth}')"
      ],
      "metadata": {
        "id": "Qqd6mrVgR3nv"
      },
      "execution_count": null,
      "outputs": []
    }
  ]
}